{
 "cells": [
  {
   "cell_type": "code",
   "execution_count": 4,
   "id": "f8693fcc",
   "metadata": {},
   "outputs": [
    {
     "name": "stdout",
     "output_type": "stream",
     "text": [
      "Train shape: (913000, 4)\n",
      "Test shape: (45000, 4)\n",
      "         date  store  item  sales\n",
      "0  2013-01-01      1     1     13\n",
      "1  2013-01-02      1     1     11\n",
      "2  2013-01-03      1     1     14\n",
      "3  2013-01-04      1     1     13\n",
      "4  2013-01-05      1     1     10\n",
      "   id        date  store  item\n",
      "0   0  2018-01-01      1     1\n",
      "1   1  2018-01-02      1     1\n",
      "2   2  2018-01-03      1     1\n",
      "3   3  2018-01-04      1     1\n",
      "4   4  2018-01-05      1     1\n"
     ]
    }
   ],
   "source": [
    "import pandas as pd\n",
    "\n",
    "# Load datasets\n",
    "train_df = pd.read_csv(\"../data/train.csv\")\n",
    "test_df = pd.read_csv(\"../data/test.csv\")\n",
    "\n",
    "print(\"Train shape:\", train_df.shape)\n",
    "print(\"Test shape:\", test_df.shape)\n",
    "\n",
    "print(train_df.head())\n",
    "print(test_df.head())\n"
   ]
  },
  {
   "cell_type": "code",
   "execution_count": 5,
   "id": "b6609128",
   "metadata": {},
   "outputs": [],
   "source": [
    "# Convert date column\n",
    "train_df['date'] = pd.to_datetime(train_df['date'])\n",
    "test_df['date'] = pd.to_datetime(test_df['date'])\n",
    "\n",
    "# Aggregate sales (total sales per day)\n",
    "daily_sales = train_df.groupby(\"date\")['sales'].sum().reset_index()\n",
    "\n",
    "# Rename for Prophet\n",
    "df_prophet = daily_sales.rename(columns={'date': 'ds', 'sales': 'y'})\n"
   ]
  },
  {
   "cell_type": "markdown",
   "id": "d7982c81",
   "metadata": {},
   "source": [
    "# Train Prophet Model"
   ]
  }
 ],
 "metadata": {
  "kernelspec": {
   "display_name": "Python (ml-env)",
   "language": "python",
   "name": "ml-env"
  },
  "language_info": {
   "codemirror_mode": {
    "name": "ipython",
    "version": 3
   },
   "file_extension": ".py",
   "mimetype": "text/x-python",
   "name": "python",
   "nbconvert_exporter": "python",
   "pygments_lexer": "ipython3",
   "version": "3.10.18"
  }
 },
 "nbformat": 4,
 "nbformat_minor": 5
}
